{
 "cells": [
  {
   "cell_type": "markdown",
   "metadata": {},
   "source": [
    "<h2>Pre-processing</h2>\n",
    "<h4>Dieser Code muss mit jeder Datei einzeln durchgeführt werden. </h4>"
   ]
  },
  {
   "cell_type": "code",
   "execution_count": 1,
   "metadata": {},
   "outputs": [
    {
     "data": {
      "text/html": [
       "<div>\n",
       "<style scoped>\n",
       "    .dataframe tbody tr th:only-of-type {\n",
       "        vertical-align: middle;\n",
       "    }\n",
       "\n",
       "    .dataframe tbody tr th {\n",
       "        vertical-align: top;\n",
       "    }\n",
       "\n",
       "    .dataframe thead th {\n",
       "        text-align: right;\n",
       "    }\n",
       "</style>\n",
       "<table border=\"1\" class=\"dataframe\">\n",
       "  <thead>\n",
       "    <tr style=\"text-align: right;\">\n",
       "      <th></th>\n",
       "      <th>0</th>\n",
       "    </tr>\n",
       "  </thead>\n",
       "  <tbody>\n",
       "    <tr>\n",
       "      <th>0</th>\n",
       "      <td>Came in a brown half liter bottle with a good ...</td>\n",
       "    </tr>\n",
       "    <tr>\n",
       "      <th>1</th>\n",
       "      <td>12 oz bottle poured into a pint glass, got a b...</td>\n",
       "    </tr>\n",
       "    <tr>\n",
       "      <th>2</th>\n",
       "      <td>Appearance: Pours a rich amber-red color with ...</td>\n",
       "    </tr>\n",
       "    <tr>\n",
       "      <th>3</th>\n",
       "      <td>I can't imagine a worse winter warmer. Surely ...</td>\n",
       "    </tr>\n",
       "    <tr>\n",
       "      <th>4</th>\n",
       "      <td>12 oz bottle best by 8/9/11, poured into a pin...</td>\n",
       "    </tr>\n",
       "  </tbody>\n",
       "</table>\n",
       "</div>"
      ],
      "text/plain": [
       "                                                   0\n",
       "0  Came in a brown half liter bottle with a good ...\n",
       "1  12 oz bottle poured into a pint glass, got a b...\n",
       "2  Appearance: Pours a rich amber-red color with ...\n",
       "3  I can't imagine a worse winter warmer. Surely ...\n",
       "4  12 oz bottle best by 8/9/11, poured into a pin..."
      ]
     },
     "execution_count": 1,
     "metadata": {},
     "output_type": "execute_result"
    }
   ],
   "source": [
    "import pandas as pd\n",
    "from nltk.stem.snowball import SnowballStemmer\n",
    "#from nltk.tokenize import sent_tokenize, word_tokenize\n",
    "\n",
    "data = pd.read_csv(\"C:\\\\Users\\\\ojkbe\\\\OneDrive\\\\Documents\\\\7. Semester\\\\KI\\\\Übung\\\\train-neg.csv\", header=None, engine='python')\n",
    "\n",
    "data.head()"
   ]
  },
  {
   "cell_type": "code",
   "execution_count": 2,
   "metadata": {},
   "outputs": [
    {
     "data": {
      "text/plain": [
       "\"12 oz brown bottle.\\t\\tFoamy white head with not much retention. Plenty of noticeable carbonation. Virtually no lacing. Extremely watery; the faintest shade of dull straw coloration. Other than that, this beer is clear.\\t\\tCorn, rice, and a metallic graininess. Skunky aroma as well.\\t\\tA moderate wheat flavor joined by the usual rice and corn dynamics typical of a light lager. A very weak malt character and a touch of unflattering hops. The skunkiness returns and lasts throughout the aftertaste.\\t\\tVery light bodied; fizzy and grainy on the palate.\\t\\tThis is just an insult to the word 'beer' in terms of both the 3.5% abv and the flavor. I'd rather be drinking water. It's a shame that marketing is all it takes for a company to get rich off of such crap.\""
      ]
     },
     "execution_count": 2,
     "metadata": {},
     "output_type": "execute_result"
    }
   ],
   "source": [
    "len(data.shape)\n",
    "data.shape[0]#-> 1500 Anzahl rows\n",
    "len(data.columns) #-> 1 Anzahl columns\n",
    "data.shape[1] #-> 1 Anzahl columns\n",
    "data.loc[5,0]"
   ]
  },
  {
   "cell_type": "markdown",
   "metadata": {},
   "source": [
    "<h3>Entfernen der Satzzeichen</h3>"
   ]
  },
  {
   "cell_type": "code",
   "execution_count": 3,
   "metadata": {},
   "outputs": [
    {
     "data": {
      "text/html": [
       "<div>\n",
       "<style scoped>\n",
       "    .dataframe tbody tr th:only-of-type {\n",
       "        vertical-align: middle;\n",
       "    }\n",
       "\n",
       "    .dataframe tbody tr th {\n",
       "        vertical-align: top;\n",
       "    }\n",
       "\n",
       "    .dataframe thead th {\n",
       "        text-align: right;\n",
       "    }\n",
       "</style>\n",
       "<table border=\"1\" class=\"dataframe\">\n",
       "  <thead>\n",
       "    <tr style=\"text-align: right;\">\n",
       "      <th></th>\n",
       "      <th>0</th>\n",
       "    </tr>\n",
       "  </thead>\n",
       "  <tbody>\n",
       "    <tr>\n",
       "      <th>0</th>\n",
       "      <td>Came in a brown half liter bottle with a good ...</td>\n",
       "    </tr>\n",
       "    <tr>\n",
       "      <th>1</th>\n",
       "      <td>12 oz bottle poured into a pint glass got a bo...</td>\n",
       "    </tr>\n",
       "    <tr>\n",
       "      <th>2</th>\n",
       "      <td>Appearance Pours a rich amberred color with a ...</td>\n",
       "    </tr>\n",
       "    <tr>\n",
       "      <th>3</th>\n",
       "      <td>I can't imagine a worse winter warmer Surely t...</td>\n",
       "    </tr>\n",
       "    <tr>\n",
       "      <th>4</th>\n",
       "      <td>12 oz bottle best by 8911 poured into a pint g...</td>\n",
       "    </tr>\n",
       "  </tbody>\n",
       "</table>\n",
       "</div>"
      ],
      "text/plain": [
       "                                                   0\n",
       "0  Came in a brown half liter bottle with a good ...\n",
       "1  12 oz bottle poured into a pint glass got a bo...\n",
       "2  Appearance Pours a rich amberred color with a ...\n",
       "3  I can't imagine a worse winter warmer Surely t...\n",
       "4  12 oz bottle best by 8911 poured into a pint g..."
      ]
     },
     "execution_count": 3,
     "metadata": {},
     "output_type": "execute_result"
    }
   ],
   "source": [
    "punctuation = [',', '.', ':', ';', '/', '\\\\', '?','!', '-', '\"', '(', ')']\n",
    "tempString = ''\n",
    "stringSlice = ''\n",
    "\n",
    "for x in range(0,data.shape[0],1): #replace funktioniert nicht?!\n",
    "    #print('in row' + str(x))\n",
    "    tempString = ''\n",
    "    if not type(data.loc[x,0]) is float:\n",
    "        for i in range(len(data.loc[x,0])):\n",
    "            if (data.loc[x,0])[i] not in punctuation:\n",
    "                if not ((data.loc[x,0])[i:i+1] == '\\t'):\n",
    "                    if i == 0:\n",
    "                        tempString = (data.loc[x,0])[i]\n",
    "                    else:\n",
    "                        tempString += (data.loc[x,0])[i]\n",
    "                else: # Falls ein Tab gefunden wurde wird dafür eine Leerstelle eingefügt\n",
    "                    if i != 0:\n",
    "                        tempString += ' '             \n",
    "    data.loc[x,0] = tempString\n",
    "data.head()"
   ]
  },
  {
   "cell_type": "code",
   "execution_count": 4,
   "metadata": {},
   "outputs": [
    {
     "data": {
      "text/html": [
       "<div>\n",
       "<style scoped>\n",
       "    .dataframe tbody tr th:only-of-type {\n",
       "        vertical-align: middle;\n",
       "    }\n",
       "\n",
       "    .dataframe tbody tr th {\n",
       "        vertical-align: top;\n",
       "    }\n",
       "\n",
       "    .dataframe thead th {\n",
       "        text-align: right;\n",
       "    }\n",
       "</style>\n",
       "<table border=\"1\" class=\"dataframe\">\n",
       "  <thead>\n",
       "    <tr style=\"text-align: right;\">\n",
       "      <th></th>\n",
       "      <th>0</th>\n",
       "    </tr>\n",
       "  </thead>\n",
       "  <tbody>\n",
       "    <tr>\n",
       "      <th>0</th>\n",
       "      <td>Came in a brown half liter bottle with a good ...</td>\n",
       "    </tr>\n",
       "    <tr>\n",
       "      <th>1</th>\n",
       "      <td>12 oz bottle poured into a pint glass got a bo...</td>\n",
       "    </tr>\n",
       "    <tr>\n",
       "      <th>2</th>\n",
       "      <td>Appearance Pours a rich amberred color with a ...</td>\n",
       "    </tr>\n",
       "    <tr>\n",
       "      <th>3</th>\n",
       "      <td>I can't imagine a worse winter warmer Surely t...</td>\n",
       "    </tr>\n",
       "    <tr>\n",
       "      <th>4</th>\n",
       "      <td>12 oz bottle best by 8911 poured into a pint g...</td>\n",
       "    </tr>\n",
       "  </tbody>\n",
       "</table>\n",
       "</div>"
      ],
      "text/plain": [
       "                                                   0\n",
       "0  Came in a brown half liter bottle with a good ...\n",
       "1  12 oz bottle poured into a pint glass got a bo...\n",
       "2  Appearance Pours a rich amberred color with a ...\n",
       "3  I can't imagine a worse winter warmer Surely t...\n",
       "4  12 oz bottle best by 8911 poured into a pint g..."
      ]
     },
     "execution_count": 4,
     "metadata": {},
     "output_type": "execute_result"
    }
   ],
   "source": [
    "tempString = ''\n",
    "\n",
    "\n",
    "for x in range(0,data.shape[0],1): #finden doppelter Leerstellen\n",
    "    #print('in row' + str(x))\n",
    "    tempString = ''\n",
    "    if not type(data.loc[x,0]) is float:\n",
    "        for i in range(len(data.loc[x,0])):\n",
    "            if not ((data.loc[x,0])[i:i+2] == '  '):\n",
    "                    if i == 0:\n",
    "                        tempString = (data.loc[x,0])[i]\n",
    "                    else:\n",
    "                        tempString += (data.loc[x,0])[i]\n",
    "           #else:\n",
    "                #print('Found!!!')\n",
    "    data.loc[x,0] = tempString\n",
    "\n",
    "data.head()"
   ]
  },
  {
   "cell_type": "code",
   "execution_count": 5,
   "metadata": {},
   "outputs": [],
   "source": [
    "data.to_csv('C:\\\\Users\\\\ojkbe\\\\OneDrive\\\\Documents\\\\7. Semester\\\\KI\\\\Übung\\\\PreprocessedStage1.csv')"
   ]
  },
  {
   "cell_type": "markdown",
   "metadata": {},
   "source": [
    "<h2>Stopwords</h2>"
   ]
  },
  {
   "cell_type": "code",
   "execution_count": 8,
   "metadata": {},
   "outputs": [
    {
     "data": {
      "text/html": [
       "<div>\n",
       "<style scoped>\n",
       "    .dataframe tbody tr th:only-of-type {\n",
       "        vertical-align: middle;\n",
       "    }\n",
       "\n",
       "    .dataframe tbody tr th {\n",
       "        vertical-align: top;\n",
       "    }\n",
       "\n",
       "    .dataframe thead th {\n",
       "        text-align: right;\n",
       "    }\n",
       "</style>\n",
       "<table border=\"1\" class=\"dataframe\">\n",
       "  <thead>\n",
       "    <tr style=\"text-align: right;\">\n",
       "      <th></th>\n",
       "      <th>0</th>\n",
       "    </tr>\n",
       "  </thead>\n",
       "  <tbody>\n",
       "    <tr>\n",
       "      <th>0</th>\n",
       "      <td>Came brown half liter bottle good looking mult...</td>\n",
       "    </tr>\n",
       "    <tr>\n",
       "      <th>1</th>\n",
       "      <td>12 oz bottle poured pint glass got bottle holi...</td>\n",
       "    </tr>\n",
       "    <tr>\n",
       "      <th>2</th>\n",
       "      <td>Appearance Pours rich amberred color ton hop h...</td>\n",
       "    </tr>\n",
       "    <tr>\n",
       "      <th>3</th>\n",
       "      <td>I can't imagine worse winter warmer Surely wor...</td>\n",
       "    </tr>\n",
       "    <tr>\n",
       "      <th>4</th>\n",
       "      <td>12 oz bottle best 8911 poured pint glass A pen...</td>\n",
       "    </tr>\n",
       "  </tbody>\n",
       "</table>\n",
       "</div>"
      ],
      "text/plain": [
       "                                                   0\n",
       "0  Came brown half liter bottle good looking mult...\n",
       "1  12 oz bottle poured pint glass got bottle holi...\n",
       "2  Appearance Pours rich amberred color ton hop h...\n",
       "3  I can't imagine worse winter warmer Surely wor...\n",
       "4  12 oz bottle best 8911 poured pint glass A pen..."
      ]
     },
     "execution_count": 8,
     "metadata": {},
     "output_type": "execute_result"
    }
   ],
   "source": [
    "import io \n",
    "from nltk.corpus import stopwords \n",
    "\n",
    "stop_words = set(stopwords.words('english')) \n",
    "\n",
    "counter = 0\n",
    "stopwordsData = ''\n",
    "\n",
    "for x in range(0,data.shape[0],1):\n",
    "    #print('in row' + str(x))\n",
    "    stopwordsData = ''\n",
    "    counter = 0\n",
    "    if not type(data.loc[x,0]) is float:\n",
    "        for word in data.loc[x,0].split():\n",
    "            #print('alive and in if loop ' + str(x))\n",
    "            if counter == 0:\n",
    "                #print(word)\n",
    "                if word in stop_words:\n",
    "                    #print('found stopword' + word)\n",
    "                    #(data.loc[x,0]).replace(word, '')\n",
    "                    counter = 1\n",
    "                else:\n",
    "                    counter = 1\n",
    "                    stopwordsData = word\n",
    "            else:\n",
    "            #print('alive and in if loop ' + str(x))\n",
    "                if word in stop_words:\n",
    "                    print('found stopword ' + word)\n",
    "                    #(data.loc[x,0]).replace(word, '')\n",
    "                else:\n",
    "                    stopwordsData += ' ' + word\n",
    "    data.loc[x,0] = stopwordsData\n",
    "data.head()"
   ]
  },
  {
   "cell_type": "markdown",
   "metadata": {},
   "source": [
    "<h2>Wordnet</h2>"
   ]
  },
  {
   "cell_type": "code",
   "execution_count": 9,
   "metadata": {},
   "outputs": [
    {
     "data": {
      "text/html": [
       "<div>\n",
       "<style scoped>\n",
       "    .dataframe tbody tr th:only-of-type {\n",
       "        vertical-align: middle;\n",
       "    }\n",
       "\n",
       "    .dataframe tbody tr th {\n",
       "        vertical-align: top;\n",
       "    }\n",
       "\n",
       "    .dataframe thead th {\n",
       "        text-align: right;\n",
       "    }\n",
       "</style>\n",
       "<table border=\"1\" class=\"dataframe\">\n",
       "  <thead>\n",
       "    <tr style=\"text-align: right;\">\n",
       "      <th></th>\n",
       "      <th>0</th>\n",
       "    </tr>\n",
       "  </thead>\n",
       "  <tbody>\n",
       "    <tr>\n",
       "      <th>0</th>\n",
       "      <td>come brown one-half liter bottle good look mot...</td>\n",
       "    </tr>\n",
       "    <tr>\n",
       "      <th>1</th>\n",
       "      <td>twelve oz bottle pour pint glass get bottle v...</td>\n",
       "    </tr>\n",
       "    <tr>\n",
       "      <th>2</th>\n",
       "      <td>appearance pour rich_people amberred color sh...</td>\n",
       "    </tr>\n",
       "    <tr>\n",
       "      <th>3</th>\n",
       "      <td>iodine can't imagine worse winter heater sure...</td>\n",
       "    </tr>\n",
       "    <tr>\n",
       "      <th>4</th>\n",
       "      <td>twelve oz bottle best 8911 pour pint glass an...</td>\n",
       "    </tr>\n",
       "  </tbody>\n",
       "</table>\n",
       "</div>"
      ],
      "text/plain": [
       "                                                   0\n",
       "0  come brown one-half liter bottle good look mot...\n",
       "1   twelve oz bottle pour pint glass get bottle v...\n",
       "2   appearance pour rich_people amberred color sh...\n",
       "3   iodine can't imagine worse winter heater sure...\n",
       "4   twelve oz bottle best 8911 pour pint glass an..."
      ]
     },
     "execution_count": 9,
     "metadata": {},
     "output_type": "execute_result"
    }
   ],
   "source": [
    "from nltk.corpus import wordnet\n",
    "\n",
    "counter = 0\n",
    "\n",
    "for x in range(0,data.shape[0],1): \n",
    "    #print('in row' + str(x))\n",
    "    synString = ''\n",
    "    if not type(data.loc[x,0]) is float:\n",
    "        for word in data.loc[x,0].split():\n",
    "            #print(word)\n",
    "            syns = wordnet.synsets(word)\n",
    "            if syns: #check if synset exists\n",
    "                if counter == 0:\n",
    "                    synString =(syns)[0].lemmas()[0].name()\n",
    "                    #print(syns)\n",
    "                    counter = 1\n",
    "                else:\n",
    "                    synString +=' ' + (syns)[0].lemmas()[0].name()\n",
    "                    #print(syns)\n",
    "                #hyper = ((syns)[0].hypernyms())# check if hypernyms exists\n",
    "                #if hyper:\n",
    "                #    if counter == 0:\n",
    "                #        synString =((syns)[0].hypernyms())[0].lemmas()[0].name()\n",
    "                #        print(syns)\n",
    "                #        counter = 1\n",
    "                #    else:\n",
    "                #        synString +=' ' + ((syns)[0].hypernyms())[0].lemmas()[0].name()\n",
    "                #        print(syns)\n",
    "                        \n",
    "            else:\n",
    "                if counter == 0:\n",
    "                    synString = word\n",
    "                    counter = 1\n",
    "                else:\n",
    "                    synString += ' ' + word\n",
    "                \n",
    "    data.loc[x,0] = synString\n",
    "#wordnet.synsets(word)\n",
    "\n",
    "data.head()\n"
   ]
  },
  {
   "cell_type": "markdown",
   "metadata": {},
   "source": [
    "<h2>Stemmer</h2>"
   ]
  },
  {
   "cell_type": "code",
   "execution_count": 10,
   "metadata": {},
   "outputs": [
    {
     "data": {
      "text/html": [
       "<div>\n",
       "<style scoped>\n",
       "    .dataframe tbody tr th:only-of-type {\n",
       "        vertical-align: middle;\n",
       "    }\n",
       "\n",
       "    .dataframe tbody tr th {\n",
       "        vertical-align: top;\n",
       "    }\n",
       "\n",
       "    .dataframe thead th {\n",
       "        text-align: right;\n",
       "    }\n",
       "</style>\n",
       "<table border=\"1\" class=\"dataframe\">\n",
       "  <thead>\n",
       "    <tr style=\"text-align: right;\">\n",
       "      <th></th>\n",
       "      <th>0</th>\n",
       "    </tr>\n",
       "  </thead>\n",
       "  <tbody>\n",
       "    <tr>\n",
       "      <th>0</th>\n",
       "      <td>come brown one-half liter bottl good look motl...</td>\n",
       "    </tr>\n",
       "    <tr>\n",
       "      <th>1</th>\n",
       "      <td>twelv oz bottl pour pint glass get bottl vaca...</td>\n",
       "    </tr>\n",
       "    <tr>\n",
       "      <th>2</th>\n",
       "      <td>appear pour rich_peopl amber color short_ton ...</td>\n",
       "    </tr>\n",
       "    <tr>\n",
       "      <th>3</th>\n",
       "      <td>iodin can't imagin wors winter heater sure wo...</td>\n",
       "    </tr>\n",
       "    <tr>\n",
       "      <th>4</th>\n",
       "      <td>twelv oz bottl best 8911 pour pint glass angs...</td>\n",
       "    </tr>\n",
       "  </tbody>\n",
       "</table>\n",
       "</div>"
      ],
      "text/plain": [
       "                                                   0\n",
       "0  come brown one-half liter bottl good look motl...\n",
       "1   twelv oz bottl pour pint glass get bottl vaca...\n",
       "2   appear pour rich_peopl amber color short_ton ...\n",
       "3   iodin can't imagin wors winter heater sure wo...\n",
       "4   twelv oz bottl best 8911 pour pint glass angs..."
      ]
     },
     "execution_count": 10,
     "metadata": {},
     "output_type": "execute_result"
    }
   ],
   "source": [
    "counter = 0\n",
    "stemmedData = ''\n",
    "\n",
    "stemmer = SnowballStemmer(\"english\")\n",
    "for x in range(0,data.shape[0],1): #+1 bei shape  !!!!!!!!!!!!!!!!!!!!!!!!!!!!!!+1\n",
    "    #print('in row' + str(x))\n",
    "    stemmedData = ''\n",
    "    if not type(data.loc[x,0]) is float:\n",
    "        for word in data.loc[x,0].split():\n",
    "            #print('alive and in if loop ' + str(x))\n",
    "            if counter == 0:\n",
    "                stemmedData = stemmer.stem(word)\n",
    "                counter = 1\n",
    "            else:\n",
    "                stemmedData += ' ' + stemmer.stem(word)\n",
    "    data.loc[x,0] = stemmedData\n",
    "\n",
    "data.head()"
   ]
  },
  {
   "cell_type": "markdown",
   "metadata": {},
   "source": [
    "<h2>Save data</h2>"
   ]
  },
  {
   "cell_type": "code",
   "execution_count": 11,
   "metadata": {},
   "outputs": [
    {
     "data": {
      "text/html": [
       "<div>\n",
       "<style scoped>\n",
       "    .dataframe tbody tr th:only-of-type {\n",
       "        vertical-align: middle;\n",
       "    }\n",
       "\n",
       "    .dataframe tbody tr th {\n",
       "        vertical-align: top;\n",
       "    }\n",
       "\n",
       "    .dataframe thead th {\n",
       "        text-align: right;\n",
       "    }\n",
       "</style>\n",
       "<table border=\"1\" class=\"dataframe\">\n",
       "  <thead>\n",
       "    <tr style=\"text-align: right;\">\n",
       "      <th></th>\n",
       "      <th>Text</th>\n",
       "      <th>Label</th>\n",
       "    </tr>\n",
       "  </thead>\n",
       "  <tbody>\n",
       "    <tr>\n",
       "      <th>0</th>\n",
       "      <td>come brown one-half liter bottl good look motl...</td>\n",
       "      <td>0</td>\n",
       "    </tr>\n",
       "    <tr>\n",
       "      <th>1</th>\n",
       "      <td>twelv oz bottl pour pint glass get bottl vaca...</td>\n",
       "      <td>0</td>\n",
       "    </tr>\n",
       "    <tr>\n",
       "      <th>2</th>\n",
       "      <td>appear pour rich_peopl amber color short_ton ...</td>\n",
       "      <td>0</td>\n",
       "    </tr>\n",
       "    <tr>\n",
       "      <th>3</th>\n",
       "      <td>iodin can't imagin wors winter heater sure wo...</td>\n",
       "      <td>0</td>\n",
       "    </tr>\n",
       "    <tr>\n",
       "      <th>4</th>\n",
       "      <td>twelv oz bottl best 8911 pour pint glass angs...</td>\n",
       "      <td>0</td>\n",
       "    </tr>\n",
       "  </tbody>\n",
       "</table>\n",
       "</div>"
      ],
      "text/plain": [
       "                                                Text  Label\n",
       "0  come brown one-half liter bottl good look motl...      0\n",
       "1   twelv oz bottl pour pint glass get bottl vaca...      0\n",
       "2   appear pour rich_peopl amber color short_ton ...      0\n",
       "3   iodin can't imagin wors winter heater sure wo...      0\n",
       "4   twelv oz bottl best 8911 pour pint glass angs...      0"
      ]
     },
     "execution_count": 11,
     "metadata": {},
     "output_type": "execute_result"
    }
   ],
   "source": [
    "preprocessedData = pd.DataFrame({'Text': data[0], 'Label': 0})\n",
    "preprocessedData.head()"
   ]
  },
  {
   "cell_type": "code",
   "execution_count": 12,
   "metadata": {},
   "outputs": [],
   "source": [
    "preprocessedData.to_csv('C:\\\\Users\\\\ojkbe\\\\OneDrive\\\\Documents\\\\7. Semester\\\\KI\\\\Übung\\\\preprocessedDataNeg.csv')"
   ]
  },
  {
   "cell_type": "code",
   "execution_count": null,
   "metadata": {},
   "outputs": [],
   "source": []
  }
 ],
 "metadata": {
  "kernelspec": {
   "display_name": "Python 3",
   "language": "python",
   "name": "python3"
  },
  "language_info": {
   "codemirror_mode": {
    "name": "ipython",
    "version": 3
   },
   "file_extension": ".py",
   "mimetype": "text/x-python",
   "name": "python",
   "nbconvert_exporter": "python",
   "pygments_lexer": "ipython3",
   "version": "3.7.0"
  }
 },
 "nbformat": 4,
 "nbformat_minor": 2
}
